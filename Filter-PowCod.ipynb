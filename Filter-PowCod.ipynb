{
 "cells": [
  {
   "cell_type": "code",
   "execution_count": null,
   "metadata": {},
   "outputs": [],
   "source": [
    "import pandas as pd\n",
    "import os\n",
    "\n",
    "\n",
    "def read_powcod_sql():\n",
    "    import sqlite3\n",
    "    con = sqlite3.connect('cod2205.sq')\n",
    "    df = pd.read_sql_query('SELECT * FROM id',con)\n",
    "    con2 = sqlite3.connect('cod2205.sq.info')\n",
    "    df2 = pd.read_sql_query('SELECT * FROM info',con2)\n",
    "\n",
    "    df.id = pd.to_numeric(df.id)\n",
    "    df2.id = pd.to_numeric(df2.id)\n",
    "\n",
    "    combined = df.merge(df2, left_on=\"id\", right_on=\"id\")\n",
    "    return combined\n",
    "\n",
    "if os.path.isfile(\"combined.pkl\"):\n",
    "    combined = pd.read_pickle(\"combined.pkl\")\n",
    "else:\n",
    "    combined = read_powcod_sql()\n",
    "    print(combined.columns)\n",
    "    combined = combined[[\"spacegroup_x\", \"a\", \"b\", \"c\", \"alpha\", \"beta\",\n",
    "                    \"gamma\", \"volume\", \"h\", \"k\", \"l\", \"nd\", \"dvalue\",\n",
    "                    \"intensita\", \"type\", \"id\"]]\n",
    "    combined.to_pickle(\"combined.pkl\")"
   ]
  },
  {
   "cell_type": "code",
   "execution_count": null,
   "metadata": {},
   "outputs": [],
   "source": [
    "min_volume = 400\n",
    "max_volume = 4000\n",
    "max_cell_length = 50\n",
    "min_cell_angle = 60\n",
    "max_cell_angle = 120\n",
    "min_data_angle = 4\n",
    "max_data_angle = 44\n",
    "wavelength = 1.54056\n",
    "min_detectable_peaks_in_range = 10"
   ]
  },
  {
   "cell_type": "code",
   "execution_count": null,
   "metadata": {},
   "outputs": [],
   "source": [
    "combined = combined[(combined.volume <= max_volume) & (combined.volume >= min_volume)]\n",
    "combined = combined[(combined.a != 0) & (combined.b != 0) & (combined.c != 0)]\n",
    "combined = combined[(combined.a <= max_cell_length) & (combined.b <= max_cell_length) & (combined.c <= max_cell_length)]\n",
    "combined = combined[(combined.alpha >= min_cell_angle) & (combined.alpha <= max_cell_angle)]\n",
    "combined = combined[(combined.beta >= min_cell_angle) & (combined.beta <= max_cell_angle)]\n",
    "combined = combined[(combined.gamma >= min_cell_angle) & (combined.gamma <= max_cell_angle)]\n",
    "combined = combined[(combined.nd >= min_detectable_peaks_in_range)]\n",
    "combined.describe()"
   ]
  },
  {
   "cell_type": "code",
   "execution_count": null,
   "metadata": {},
   "outputs": [],
   "source": [
    "from pymatgen.symmetry import groups\n",
    "import numpy as np\n",
    "\n",
    "symbol_to_num = {}\n",
    "for i, s in enumerate(np.unique(combined.spacegroup_x.to_numpy())):\n",
    "    try:\n",
    "        g = groups.SpaceGroup(s)\n",
    "        symbol_to_num[s] = g.int_number\n",
    "    except:\n",
    "        symbol_to_num[s] = -1\n",
    "\n",
    "def label_SGs(sg):\n",
    "    return symbol_to_num[sg]\n",
    "\n",
    "combined[\"sg_number\"] = combined.spacegroup_x.apply(label_SGs)\n",
    "combined = combined[combined.sg_number > 0]\n",
    "combined.describe()"
   ]
  },
  {
   "cell_type": "code",
   "execution_count": null,
   "metadata": {},
   "outputs": [],
   "source": [
    "d_from_tt = lambda x: wavelength/(2*np.sin(np.deg2rad(x)/2))\n",
    "tt_from_d = lambda x: 2*np.rad2deg(np.arcsin(wavelength/(2*x)))\n",
    "max_d = d_from_tt(min_data_angle)\n",
    "min_d = d_from_tt(max_data_angle)\n",
    "print(\"Wavelength:\", wavelength)\n",
    "print(f\"Minimum angle = {min_data_angle}  : Maximum d-spacing = {max_d:.3f}\")\n",
    "print(f\"Maximum angle = {max_data_angle} : Minimum d-spacing = {min_d:.3f}\")"
   ]
  },
  {
   "cell_type": "code",
   "execution_count": null,
   "metadata": {},
   "outputs": [],
   "source": [
    "def d_spacing_limits(x, min_d_spacing=1, max_d_spacing=100):\n",
    "    d = list(filter(None, x.strip().split(\",\")))\n",
    "    d = [float(i) for i in d]\n",
    "    if len(d) == 0:\n",
    "        return False\n",
    "    else:\n",
    "        if d[-1] > min_d_spacing:\n",
    "            return False\n",
    "        if d[0] > max_d_spacing:\n",
    "            return False\n",
    "        return True\n",
    "\n",
    "combined[\"d_spacing_filter\"] = combined.dvalue.apply(d_spacing_limits, args=(min_d, max_d))"
   ]
  },
  {
   "cell_type": "code",
   "execution_count": null,
   "metadata": {},
   "outputs": [],
   "source": [
    "combined = combined[combined[\"d_spacing_filter\"] == True]\n",
    "combined.describe()"
   ]
  },
  {
   "cell_type": "code",
   "execution_count": null,
   "metadata": {},
   "outputs": [],
   "source": [
    "def n_peaks_in_range(dspacing, intensity, min_intensity=5):\n",
    "    dspacing = list(filter(None, dspacing.strip().split(\",\")))\n",
    "    dspacing = np.array([float(i) for i in dspacing])\n",
    "    intensity = list(filter(None, intensity.strip().split(\",\")))\n",
    "    intensity = np.array([float(i) for i in intensity])\n",
    "    intensity = intensity[dspacing >= min_d]\n",
    "    return (intensity > min_intensity).sum()\n",
    "\n",
    "combined[\"n_detectable_peaks_in_range\"] = combined.apply(lambda x: n_peaks_in_range(x.dvalue, x.intensita), axis=1)\n",
    "combined[\"n_detectable_peaks_in_range\"].describe()"
   ]
  },
  {
   "cell_type": "code",
   "execution_count": null,
   "metadata": {},
   "outputs": [],
   "source": [
    "combined = combined[combined.n_detectable_peaks_in_range >= min_detectable_peaks_in_range]\n",
    "combined.describe()"
   ]
  },
  {
   "cell_type": "code",
   "execution_count": null,
   "metadata": {},
   "outputs": [],
   "source": [
    "unit_cell = combined[[\"a\",\"b\",\"c\",\"alpha\",\"beta\",\"gamma\"]].to_numpy()\n",
    "crystal_systems, crystal_systems_numeric = np.unique(combined.type.to_numpy(), return_inverse=True)\n",
    "space_group_number = combined.sg_number.to_numpy()\n",
    "cod_id = combined.id.to_numpy()\n",
    "print(crystal_systems)"
   ]
  },
  {
   "cell_type": "code",
   "execution_count": null,
   "metadata": {},
   "outputs": [],
   "source": [
    "def get_array(x, dtype=np.float32):\n",
    "    data = np.zeros(500, dtype=dtype)\n",
    "    x = list(filter(None, x.strip().split(\",\")))\n",
    "    x = np.array(x, dtype=dtype)\n",
    "    data[:len(x)] = x\n",
    "    return data\n",
    "\n",
    "h = combined.h.apply(get_array, args=(np.int64,))\n",
    "k = combined.k.apply(get_array, args=(np.int64,))\n",
    "l = combined.l.apply(get_array, args=(np.int64,))\n",
    "intensities = combined.intensita.apply(get_array, args=(np.float32,))\n",
    "\n",
    "intensities = np.vstack(intensities)\n",
    "h = np.vstack(h)\n",
    "k = np.vstack(k)\n",
    "l = np.vstack(l)\n",
    "hkl = np.dstack([h,k,l])"
   ]
  },
  {
   "cell_type": "code",
   "execution_count": null,
   "metadata": {},
   "outputs": [],
   "source": [
    "import json\n",
    "base_name = f\"{min_data_angle}-{max_data_angle}-CuKa1-data_{max_volume}_\"\n",
    "config = {}\n",
    "config[\"base_name\"] = base_name\n",
    "config[\"min_volume\"] = min_volume\n",
    "config[\"max_volume\"] = max_volume\n",
    "config[\"max_cell_length\"] = max_cell_length\n",
    "config[\"min_cell_angle\"] = min_cell_angle\n",
    "config[\"max_cell_angle\"] = max_cell_angle\n",
    "config[\"min_data_angle\"] = min_data_angle\n",
    "config[\"max_data_angle\"] = max_data_angle\n",
    "config[\"wavelength\"] = wavelength\n",
    "config[\"min_detectable_peaks_in_range\"] = min_detectable_peaks_in_range\n",
    "config[\"crystal_systems\"] = [x[0]+\" = \"+str(x[1]) for x in zip(crystal_systems, np.arange(len(crystal_systems)))]\n",
    "\n",
    "with open(\"data_config.json\", \"w\") as f:\n",
    "    json.dump(config, f, indent=4)\n",
    "np.save(base_name+\"unit_cell.npy\", unit_cell)\n",
    "np.save(base_name+\"crystal_systems_numeric.npy\", crystal_systems_numeric)\n",
    "np.save(base_name+\"space_group_number.npy\", space_group_number)\n",
    "np.save(base_name+\"hkl.npy\", hkl)\n",
    "np.save(base_name+\"intensities.npy\", intensities)\n",
    "np.save(base_name+\"cod_id.npy\", cod_id)"
   ]
  }
 ],
 "metadata": {
  "language_info": {
   "name": "python"
  },
  "orig_nbformat": 4
 },
 "nbformat": 4,
 "nbformat_minor": 2
}
